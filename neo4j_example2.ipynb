{
 "cells": [
  {
   "cell_type": "code",
   "execution_count": 1,
   "metadata": {
    "collapsed": true
   },
   "outputs": [],
   "source": [
    "# 1、导入相关的包\n",
    "from py2neo import Graph,Node,Relationship,cypher\n",
    "from pandas import DataFrame\n",
    "import config"
   ]
  },
  {
   "cell_type": "code",
   "execution_count": 2,
   "metadata": {},
   "outputs": [],
   "source": [
    "##Graph  图\n",
    " \n",
    "test_graph = Graph('http://localhost:7474',username='neo4j',\n",
    "                   password=config['password'])\n"
   ]
  },
  {
   "cell_type": "code",
   "execution_count": 32,
   "metadata": {},
   "outputs": [
    {
     "name": "stdout",
     "output_type": "stream",
     "text": [
      "<bound method Graph.data of <Graph uri='http://localhost:7474/db/data/'>>\n"
     ]
    }
   ],
   "source": [
    "print(test_graph.data)"
   ]
  },
  {
   "cell_type": "code",
   "execution_count": 3,
   "metadata": {},
   "outputs": [],
   "source": [
    "data_res=test_graph.data('match (n) return n')"
   ]
  },
  {
   "cell_type": "code",
   "execution_count": 5,
   "metadata": {},
   "outputs": [
    {
     "data": {
      "text/plain": [
       "[{'n': (ada2129:Movie {movieId:\"tt0133093\",title:\"The Matrix\",year:1999})},\n {'n': (a5d0951:Movie:Sequel {movieId:\"tt0234215\",title:\"The Matrix Reloaded\",year:2003})},\n {'n': (d63e15c:Movie:Sequel {movieId:\"tt0242653\",title:\"The Matrix Revolutions\",year:2003})},\n {'n': (bef5201:Actor {name:\"Keanu Reeves\",personId:\"keanu\"})},\n {'n': (b9e030f:Actor {name:\"Laurence Fishburne\",personId:\"laurence\"})},\n {'n': (d002ad0:Actor {name:\"Carrie-Anne Moss\",personId:\"carrieanne\"})},\n {'n': (c06c288:Movie {released:1999,tagline:\"Welcome to the Real World\",title:\"The Matrix\"})},\n {'n': (dcc434b:Person {born:1964,name:\"Keanu Reeves\"})},\n {'n': (e754fd5:Person {born:1967,name:\"Carrie-Anne Moss\"})},\n {'n': (d1a7a47:Person {born:1961,name:\"Laurence Fishburne\"})}]"
      ]
     },
     "execution_count": 5,
     "metadata": {},
     "output_type": "execute_result"
    }
   ],
   "source": [
    "data_res[0:10]"
   ]
  },
  {
   "cell_type": "code",
   "execution_count": 6,
   "metadata": {},
   "outputs": [],
   "source": [
    "# 2、节点的创建\n",
    " \n",
    "xiena = Node('kuailejiazu',name = '谢娜')\n",
    "test_graph.create(xiena)\n",
    " \n",
    "hejiong = Node('kuailejiazu',name = '何炅')\n",
    "test_graph.create(hejiong)\n",
    " \n",
    "weijia = Node('kuailejiazu',name = '维嘉')\n",
    "test_graph.create(weijia)\n",
    " \n",
    "haitao = Node('kuailejiazu',name = '海涛')\n",
    "test_graph.create(haitao )\n",
    " \n",
    "wuxin = Node('kuailejiazu',name = '吴昕')\n",
    "test_graph.create(wuxin )\n",
    "\n",
    "zhangjie = Node('kuailejiazu',name='张杰')\n",
    "test_graph.create(zhangjie)\n",
    " \n",
    " \n",
    "xiaofang = Node('kuailejiazu',name='小方')\n",
    "test_graph.create(xiaofang)\n",
    "\n"
   ]
  },
  {
   "cell_type": "code",
   "execution_count": 7,
   "metadata": {},
   "outputs": [
    {
     "name": "stdout",
     "output_type": "stream",
     "text": [
      "(`小方`:kuailejiazu {name:\"小方\"})\n"
     ]
    }
   ],
   "source": [
    "print(xiaofang)"
   ]
  },
  {
   "cell_type": "code",
   "execution_count": 8,
   "metadata": {},
   "outputs": [],
   "source": [
    "#3、节点之间关系的建立----在创建新节点时创建\n",
    "test_graph.create(Relationship(xiena,'朋友',hejiong))\n",
    "test_graph.create(Relationship(xiena,'朋友',weijia))\n",
    "test_graph.create(Relationship(xiena,'朋友',haitao))\n",
    "test_graph.create(Relationship(xiena,'朋友',wuxin))\n",
    "test_graph.create(Relationship(xiena,'夫妻',zhangjie))\n",
    "test_graph.create(Relationship(xiena,'朋友',xiaofang))\n",
    "test_graph.create(Relationship(zhangjie,'朋友',xiaofang))"
   ]
  },
  {
   "cell_type": "code",
   "execution_count": 9,
   "metadata": {},
   "outputs": [],
   "source": [
    ""
   ]
  },
  {
   "cell_type": "code",
   "execution_count": 9,
   "metadata": {},
   "outputs": [],
   "source": [
    "#3、节点之间关系的建立----在已有节点的基础上创建\n",
    "test_graph.create(Relationship(test_graph.data(\"MATCH(a:kuailejiazu{name:'谢娜'}) return a \")[0]['a'],'朋友',test_graph.data(\"MATCH(b:kuailejiazu{name:'何炅'}) return b \")[0]['b']))\n",
    "test_graph.create(Relationship(test_graph.data(\"MATCH(a:kuailejiazu{name:'谢娜'}) return a \")[0]['a'],'朋友',test_graph.data(\"MATCH(b:kuailejiazu{name:'维嘉'}) return b \")[0]['b']))\n",
    " \n",
    "test_graph.create(Relationship(test_graph.data(\"MATCH(a:kuailejiazu{name:'谢娜'}) return a \")[0]['a'],'朋友',test_graph.data(\"MATCH(b:kuailejiazu{name:'海涛'}) return b \")[0]['b']))\n",
    "\n",
    "test_graph.create(Relationship(test_graph.data(\"MATCH(a:kuailejiazu{name:'谢娜'}) return a \")[0]['a'],'朋友',test_graph.data(\"MATCH(b:kuailejiazu{name:'吴昕'}) return b \")[0]['b']))\n",
    " \n",
    "test_graph.create(Relationship(test_graph.data(\"MATCH(a:kuailejiazu{name:'谢娜'}) return a \")[0]['a'],'夫妻',test_graph.data(\"MATCH(b:kuailejiazu{name:'张杰'}) return b \")[0]['b']))\n",
    " \n",
    "test_graph.create(Relationship(test_graph.data(\"MATCH(a:kuailejiazu{name:'谢娜'}) return a \")[0]['a'],'朋友',test_graph.data(\"MATCH(b:kuailejiazu{name:'小方'}) return b \")[0]['b']))\n"
   ]
  },
  {
   "cell_type": "code",
   "execution_count": 10,
   "metadata": {},
   "outputs": [
    {
     "name": "stdout",
     "output_type": "stream",
     "text": [
      "[{'n': (`张杰`:kuailejiazu {name:\"张杰\"})}]\n"
     ]
    }
   ],
   "source": [
    "# \n",
    "# 4、节点的相关操作\n",
    "# （1）节点的查询\n",
    "# 查询姓名为“张杰”的节点\n",
    "\n",
    "a = test_graph.data(\"Match(n:kuailejiazu) where n.name = '张杰' return n\")\n",
    "print (a)"
   ]
  },
  {
   "cell_type": "code",
   "execution_count": 11,
   "metadata": {},
   "outputs": [
    {
     "name": "stdout",
     "output_type": "stream",
     "text": [
      "                n\n0  {'name': '张杰'}\n"
     ]
    }
   ],
   "source": [
    "# 使用DataFrame对结果进行输出\n",
    "# \n",
    "print (DataFrame(a))"
   ]
  },
  {
   "cell_type": "code",
   "execution_count": 12,
   "metadata": {},
   "outputs": [
    {
     "name": "stdout",
     "output_type": "stream",
     "text": [
      "              end\n0  {'name': '小方'}\n1  {'name': '吴昕'}\n2  {'name': '海涛'}\n3  {'name': '维嘉'}\n4  {'name': '何炅'}\n"
     ]
    }
   ],
   "source": [
    "# （2）针对上面的例子，查出所有和”谢娜”节点是朋友关系的节点\n",
    "b = test_graph.data(\"MATCH(n:kuailejiazu)-[:朋友]->(end:kuailejiazu) where n.name='谢娜' return end\")\n",
    " \n",
    "print(DataFrame(b))\n"
   ]
  },
  {
   "cell_type": "code",
   "execution_count": 13,
   "metadata": {},
   "outputs": [
    {
     "data": {
      "text/plain": [
       "[]"
      ]
     },
     "execution_count": 13,
     "metadata": {},
     "output_type": "execute_result"
    }
   ],
   "source": [
    "# （3）节点的删除\n",
    "# \n",
    "# 在不小心操作的过程中，多创建了一个节点\n",
    "\n",
    "# test_graph.data(\"Match(n:kuailejiazu{name:'海涛'}) where ID(n)=60  delete n\")\n",
    " \n",
    "test_graph.data(\"Match(n:kuailejiazu) where n.name='维嘉' and ID(n)=59 delete n\")"
   ]
  },
  {
   "cell_type": "code",
   "execution_count": 14,
   "metadata": {},
   "outputs": [
    {
     "name": "stdout",
     "output_type": "stream",
     "text": [
      "[{'count(n)': 7}]\n"
     ]
    }
   ],
   "source": [
    "# （4）统计图谱中有多少节点\n",
    "\n",
    "zongshu = test_graph.data(\"match(n:kuailejiazu) return count(n)\")\n",
    " \n",
    "print(zongshu)"
   ]
  },
  {
   "cell_type": "code",
   "execution_count": 15,
   "metadata": {},
   "outputs": [
    {
     "name": "stdout",
     "output_type": "stream",
     "text": [
      "谢娜\n1981/5/6\n"
     ]
    }
   ],
   "source": [
    "# 5、属性的增加\n",
    "a = test_graph.data(\"MATCH(a:kuailejiazu{name:'谢娜'}) return a \")[0]['a']\n",
    " \n",
    "a['time'] = '1981/5/6'\n",
    " \n",
    "print(a['name'])\n",
    " \n",
    "print(a['time'])\n"
   ]
  },
  {
   "cell_type": "code",
   "execution_count": 16,
   "metadata": {},
   "outputs": [],
   "source": []
  },
  {
   "cell_type": "code",
   "execution_count": 16,
   "metadata": {},
   "outputs": [],
   "source": []
  },
  {
   "cell_type": "code",
   "execution_count": 18,
   "metadata": {},
   "outputs": [],
   "source": [
    "dd=test_graph.data('match (n:kuailejiazu) return n')"
   ]
  },
  {
   "cell_type": "code",
   "execution_count": 28,
   "metadata": {},
   "outputs": [],
   "source": [
    "dd=test_graph.data('''match (n:kuailejiazu {name:\"谢娜\"})-[r]-(m:kuailejiazu {name:\"张杰\"}) return n,r,m''')"
   ]
  },
  {
   "cell_type": "code",
   "execution_count": 29,
   "metadata": {},
   "outputs": [
    {
     "name": "stdout",
     "output_type": "stream",
     "text": [
      "[{'n': (`谢娜`:kuailejiazu {name:\"谢娜\"}), 'r': (`谢娜`)-[:`夫妻`]->(`张杰`), 'm': (`张杰`:kuailejiazu {name:\"张杰\"})}]\n"
     ]
    }
   ],
   "source": [
    "print(dd)"
   ]
  },
  {
   "cell_type": "code",
   "execution_count": null,
   "metadata": {},
   "outputs": [],
   "source": []
  },
  {
   "cell_type": "code",
   "execution_count": null,
   "metadata": {},
   "outputs": [],
   "source": []
  }
 ],
 "metadata": {
  "kernelspec": {
   "display_name": "Python 2",
   "language": "python",
   "name": "python2"
  },
  "language_info": {
   "codemirror_mode": {
    "name": "ipython",
    "version": 2
   },
   "file_extension": ".py",
   "mimetype": "text/x-python",
   "name": "python",
   "nbconvert_exporter": "python",
   "pygments_lexer": "ipython2",
   "version": "2.7.6"
  }
 },
 "nbformat": 4,
 "nbformat_minor": 0
}
