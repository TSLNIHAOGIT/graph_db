{
 "cells": [
  {
   "cell_type": "code",
   "execution_count": 2,
   "metadata": {
    "collapsed": true
   },
   "outputs": [],
   "source": [
    "from py2neo import Graph,Node,Relationship\n",
    "import config\n"
   ]
  },
  {
   "cell_type": "code",
   "execution_count": 3,
   "metadata": {},
   "outputs": [],
   "source": [
    "graph = Graph('http://localhost:7474', username='neo4j', password=config['password'])\n"
   ]
  },
  {
   "cell_type": "code",
   "execution_count": 63,
   "metadata": {},
   "outputs": [
    {
     "name": "stdout",
     "output_type": "stream",
     "text": [
      "(alice:Person {name:\"Alice\"}) (bob:Person {name:\"Bob\"}) (alice)-[:KNOWS]->(bob)\n"
     ]
    }
   ],
   "source": [
    "a = Node('Person', name='Alice')\n",
    "b = Node('Person', name='Bob')\n",
    "r = Relationship(a, 'KNOWS', b)\n",
    "print(a, b, r)"
   ]
  },
  {
   "cell_type": "code",
   "execution_count": 64,
   "metadata": {},
   "outputs": [
    {
     "name": "stdout",
     "output_type": "stream",
     "text": [
      "(bobb {label:\"Person\",name:\"Bobb\"})\n"
     ]
    }
   ],
   "source": [
    "bb = Node(label='Person', name='Bobb')\n",
    "print(bb)"
   ]
  },
  {
   "cell_type": "code",
   "execution_count": 65,
   "metadata": {},
   "outputs": [
    {
     "name": "stdout",
     "output_type": "stream",
     "text": [
      "(alice:Person {age:20,name:\"Alice\"}) (bob:Person {age:21,name:\"Bob\"}) (alice)-[:KNOWS {time:\"2017/08/31\"}]->(bob)\n"
     ]
    }
   ],
   "source": [
    "#以上代码必须在创建了node与relationship下进行添加dict形式才有效\n",
    "a['age'] = 20\n",
    "b['age'] = 21\n",
    "r['time'] = '2017/08/31'\n",
    "print(a, b, r)"
   ]
  },
  {
   "cell_type": "code",
   "execution_count": 66,
   "metadata": {},
   "outputs": [
    {
     "name": "stdout",
     "output_type": "stream",
     "text": [
      "(alice:Person {age:20,location:\"北京\",name:\"Alice\"})\n"
     ]
    }
   ],
   "source": [
    "#以通过 setdefault() 方法赋值默认属性\n",
    "a.setdefault('location', '北京')\n",
    "print(a)"
   ]
  },
  {
   "cell_type": "code",
   "execution_count": 67,
   "metadata": {},
   "outputs": [
    {
     "name": "stdout",
     "output_type": "stream",
     "text": [
      "(alice:Person {age:20,location:\"上海\",name:\"Alice\"})\n"
     ]
    }
   ],
   "source": [
    "# 果赋值了 location 属性，则它会覆盖默认属性\n",
    "a['location'] = '上海'\n",
    "a.setdefault('location', '北京')\n",
    "print(a)"
   ]
  },
  {
   "cell_type": "code",
   "execution_count": 68,
   "metadata": {
    "collapsed": true
   },
   "outputs": [
    {
     "name": "stdout",
     "output_type": "stream",
     "text": [
      "(alice:Person {age:21,location:\"上海\",name:\"Amy\"})\n"
     ]
    }
   ],
   "source": [
    "#使用 update() 方法对属性批量更新\n",
    "data = {\n",
    "'name': 'Amy',\n",
    "'age': 21\n",
    "}\n",
    "a.update(data)\n",
    "#a就是变量名称\n",
    "print(a)"
   ]
  },
  {
   "cell_type": "code",
   "execution_count": 69,
   "metadata": {},
   "outputs": [
    {
     "name": "stdout",
     "output_type": "stream",
     "text": [
      "({(alice:Person {name:\"Alice\"}), (bob:Person {name:\"Bob\"})}, {(alice)-[:KNOWS]->(bob)})\n"
     ]
    }
   ],
   "source": [
    "# Subgraph子图\n",
    "# 子图，是 Node 和 Relationship 的集合，可通过关系运算符\n",
    "from py2neo import Node, Relationship\n",
    "\n",
    "a = Node('Person', name='Alice')\n",
    "b = Node('Person', name='Bob')\n",
    "r = Relationship(a, 'KNOWS', b)\n",
    "s = a | b | r\n",
    "print(s)"
   ]
  },
  {
   "cell_type": "code",
   "execution_count": 71,
   "metadata": {
    "collapsed": true
   },
   "outputs": [
    {
     "name": "stdout",
     "output_type": "stream",
     "text": [
      "frozenset({(alice:Person {name:\"Alice\"}), (bob:Person {name:\"Bob\"})})\nfrozenset({(alice)-[:KNOWS]->(bob)})\n"
     ]
    }
   ],
   "source": [
    "\n",
    "#通过 nodes和 relationships属性获取所有的 Node 和 Relationship\n",
    "print(s.nodes())\n",
    "print(s.relationships())"
   ]
  },
  {
   "cell_type": "code",
   "execution_count": 13,
   "metadata": {},
   "outputs": [
    {
     "name": "stdout",
     "output_type": "stream",
     "text": [
      "({(alice:Person {name:\"Alice\"}), (bob:Person {name:\"Bob\"})}, {})\n"
     ]
    }
   ],
   "source": [
    "#还可以利用 & 取 Subgraph 的交集\n",
    "s1 = a | b | r\n",
    "s2 = a | b\n",
    "print(s1 & s2)\n"
   ]
  },
  {
   "cell_type": "code",
   "execution_count": 14,
   "metadata": {},
   "outputs": [
    {
     "name": "stdout",
     "output_type": "stream",
     "text": [
      "frozenset({'name'})\nfrozenset({'KNOWS'})\nfrozenset({'Person'})\nfrozenset({(alice:Person {name:\"Alice\"}), (bob:Person {name:\"Bob\"})})\nfrozenset({(alice)-[:KNOWS]->(bob)})\n"
     ]
    }
   ],
   "source": [
    "#查询基本属性\n",
    "s = a | b | r\n",
    "print('节点属性名称：',s.keys())\n",
    "print(s.types())\n",
    "\n",
    "print(s.labels())\n",
    "print(s.nodes())\n",
    "print(s.relationships())\n"
   ]
  },
  {
   "cell_type": "code",
   "execution_count": 17,
   "metadata": {},
   "outputs": [
    {
     "name": "stdout",
     "output_type": "stream",
     "text": [
      "node 数量 2\nrelationship数量 1\n"
     ]
    }
   ],
   "source": [
    "##############有问题\n",
    "#用 order() 或 size() 方法来获取 Subgraph 的 Node 数量和 Relationship 数量\n",
    "from py2neo import Node, Relationship, size, order\n",
    "s = a | b | r\n",
    "print('node 数量',order(s))\n",
    "print('relationship数量',size(s))"
   ]
  },
  {
   "cell_type": "code",
   "execution_count": 18,
   "metadata": {},
   "outputs": [],
   "source": [
    "from py2neo import Node, Relationship\n",
    "a = Node('Person', name='Alice')\n",
    "b = Node('Person', name='Bob')\n",
    "c = Node('Person', name='Mike')\n",
    "ab = Relationship(a, \"KNOWS\", b)\n",
    "ac = Relationship(a, \"KNOWS\", c)\n"
   ]
  },
  {
   "cell_type": "code",
   "execution_count": 19,
   "metadata": {},
   "outputs": [
    {
     "name": "stdout",
     "output_type": "stream",
     "text": [
      "(alice)-[:KNOWS]->(bob)-[:LIKES]->(mike)<-[:KNOWS]-(alice)\n"
     ]
    }
   ],
   "source": [
    "\n",
    "w = ab + Relationship(b, \"LIKES\", c) + ac\n",
    "print(w)"
   ]
  },
  {
   "cell_type": "code",
   "execution_count": 20,
   "metadata": {},
   "outputs": [
    {
     "name": "stdout",
     "output_type": "stream",
     "text": [
      "(alice:Person {name:\"Alice\"})\n(alice)-[:KNOWS]->(bob)\n(bob:Person {name:\"Bob\"})\n(bob)-[:LIKES]->(mike)\n(mike:Person {name:\"Mike\"})\n(alice)-[:KNOWS]->(mike)\n(alice:Person {name:\"Alice\"})\n"
     ]
    }
   ],
   "source": [
    "#可以调用 walk() 方法实现遍历\n",
    "from py2neo import walk\n",
    "\n",
    "for item in walk(w):\n",
    "    print(item)"
   ]
  },
  {
   "cell_type": "code",
   "execution_count": 21,
   "metadata": {},
   "outputs": [
    {
     "name": "stdout",
     "output_type": "stream",
     "text": [
      "(alice:Person {name:\"Alice\"})\n(alice:Person {name:\"Alice\"})\n((alice:Person {name:\"Alice\"}), (bob:Person {name:\"Bob\"}), (mike:Person {name:\"Mike\"}), (alice:Person {name:\"Alice\"}))\n((alice)-[:KNOWS]->(bob), (bob)-[:LIKES]->(mike), (alice)-[:KNOWS]->(mike))\n"
     ]
    }
   ],
   "source": [
    "print(w.start_node())\n",
    "print(w.end_node())\n",
    "print(w.nodes())\n",
    "print(w.relationships())"
   ]
  },
  {
   "cell_type": "code",
   "execution_count": 24,
   "metadata": {},
   "outputs": [],
   "source": [
    "#利用 create() 方法传入 Subgraph 对象来将关系图添加到数据库中\n",
    "a = Node('Person', name='Alice')\n",
    "b = Node('Person', name='Bob')\n",
    "r = Relationship(a, 'KNOWS', b)\n",
    "s = a | b | r\n",
    "graph = Graph('http://localhost:7474', username='neo4j', password='LW199112262315.')\n",
    "graph.create(s)"
   ]
  },
  {
   "cell_type": "code",
   "execution_count": 25,
   "metadata": {},
   "outputs": [
    {
     "name": "stdout",
     "output_type": "stream",
     "text": [
      "<Graph uri='http://localhost:7474/db/data/'>\n"
     ]
    }
   ],
   "source": [
    "print(graph)"
   ]
  },
  {
   "cell_type": "code",
   "execution_count": 26,
   "metadata": {},
   "outputs": [
    {
     "name": "stdout",
     "output_type": "stream",
     "text": [
      "[{'p': (ed2e008:Person {born:1964,name:\"Keanu Reeves\"})}, {'p': (f0b777a:Person {born:1967,name:\"Carrie-Anne Moss\"})}, {'p': (a11a43a:Person {born:1961,name:\"Laurence Fishburne\"})}, {'p': (a654db9:Person {born:1960,name:\"Hugo Weaving\"})}, {'p': (a1c2554:Person {born:1967,name:\"Lilly Wachowski\"})}, {'p': (b1d0ba2:Person {born:1965,name:\"Lana Wachowski\"})}, {'p': (af2d3d9:Person {born:1952,name:\"Joel Silver\"})}, {'p': (b816746:Person {born:1978,name:\"Emil Eifrem\"})}, {'p': (eef64c4:Person {born:1975,name:\"Charlize Theron\"})}, {'p': (a39c019:Person {born:1940,name:\"Al Pacino\"})}, {'p': (f16df50:Person {born:1944,name:\"Taylor Hackford\"})}, {'p': (e60929f:Person {born:1962,name:\"Tom Cruise\"})}, {'p': (c463103:Person {born:1937,name:\"Jack Nicholson\"})}, {'p': (c2e8800:Person {born:1962,name:\"Demi Moore\"})}, {'p': (d6e4a7e:Person {born:1958,name:\"Kevin Bacon\"})}, {'p': (da9453e:Person {born:1966,name:\"Kiefer Sutherland\"})}, {'p': (c490c4e:Person {born:1971,name:\"Noah Wyle\"})}, {'p': (a157034:Person {born:1968,name:\"Cuba Gooding Jr.\"})}, {'p': (ed57aaa:Person {born:1957,name:\"Kevin Pollak\"})}, {'p': (ecd472b:Person {born:1943,name:\"J.T. Walsh\"})}, {'p': (eeb69b1:Person {born:1967,name:\"James Marshall\"})}, {'p': (d35426a:Person {born:1948,name:\"Christopher Guest\"})}, {'p': (ef41cb1:Person {born:1947,name:\"Rob Reiner\"})}, {'p': (ae3f0ca:Person {born:1961,name:\"Aaron Sorkin\"})}, {'p': (c5b19f7:Person {born:1957,name:\"Kelly McGillis\"})}, {'p': (faf9e89:Person {born:1959,name:\"Val Kilmer\"})}, {'p': (dffc1be:Person {born:1962,name:\"Anthony Edwards\"})}, {'p': (e78351a:Person {born:1933,name:\"Tom Skerritt\"})}, {'p': (ca3e3df:Person {born:1961,name:\"Meg Ryan\"})}, {'p': (f9ac80d:Person {born:1944,name:\"Tony Scott\"})}, {'p': (fa4f5b5:Person {born:1941,name:\"Jim Cash\"})}, {'p': (d975441:Person {born:1969,name:\"Renee Zellweger\"})}, {'p': (e07c845:Person {born:1962,name:\"Kelly Preston\"})}, {'p': (efb4a7e:Person {born:1974,name:\"Jerry O'Connell\"})}, {'p': (eebcaa2:Person {born:1970,name:\"Jay Mohr\"})}, {'p': (cf5115b:Person {born:1961,name:\"Bonnie Hunt\"})}, {'p': (d71d15d:Person {born:1971,name:\"Regina King\"})}, {'p': (b0a6cda:Person {born:1996,name:\"Jonathan Lipnicki\"})}, {'p': (a7d152f:Person {born:1957,name:\"Cameron Crowe\"})}, {'p': (f1a72ba:Person {born:1970,name:\"River Phoenix\"})}, {'p': (e80d6c6:Person {born:1971,name:\"Corey Feldman\"})}, {'p': (c9d62a1:Person {born:1972,name:\"Wil Wheaton\"})}, {'p': (a6da6bd:Person {born:1966,name:\"John Cusack\"})}, {'p': (a34e744:Person {born:1942,name:\"Marshall Bell\"})}, {'p': (d8aa8c1:Person {born:1963,name:\"Helen Hunt\"})}, {'p': (cb3652f:Person {born:1963,name:\"Greg Kinnear\"})}, {'p': (f3e86bf:Person {born:1940,name:\"James L. Brooks\"})}, {'p': (a6cbda6:Person {born:1960,name:\"Annabella Sciorra\"})}, {'p': (c19bb5b:Person {born:1929,name:\"Max von Sydow\"})}, {'p': (ddb62f7:Person {born:1942,name:\"Werner Herzog\"})}, {'p': (bafeb4e:Person {born:1951,name:\"Robin Williams\"})}, {'p': (c153163:Person {born:1956,name:\"Vincent Ward\"})}, {'p': (a7b920e:Person {born:1970,name:\"Ethan Hawke\"})}, {'p': (f197fd8:Person {born:1971,name:\"Rick Yune\"})}, {'p': (b5373d4:Person {born:1940,name:\"James Cromwell\"})}, {'p': (d5c9e75:Person {born:1953,name:\"Scott Hicks\"})}, {'p': (fbb354f:Person {born:1968,name:\"Parker Posey\"})}, {'p': (dd426c2:Person {born:1973,name:\"Dave Chappelle\"})}, {'p': (ffc0ff0:Person {born:1967,name:\"Steve Zahn\"})}, {'p': (c982d5e:Person {born:1956,name:\"Tom Hanks\"})}, {'p': (c652189:Person {born:1941,name:\"Nora Ephron\"})}, {'p': (d58b71f:Person {born:1956,name:\"Rita Wilson\"})}, {'p': (aa80e57:Person {born:1953,name:\"Bill Pullman\"})}, {'p': (f113b7c:Person {born:1949,name:\"Victor Garber\"})}, {'p': (a921e86:Person {born:1962,name:\"Rosie O'Donnell\"})}, {'p': (bf9141b:Person {born:1950,name:\"John Patrick Stanley\"})}, {'p': (d22a8d6:Person {born:1956,name:\"Nathan Lane\"})}, {'p': (d3aa4e7:Person {born:1948,name:\"Billy Crystal\"})}, {'p': (a88fb4d:Person {born:1956,name:\"Carrie Fisher\"})}, {'p': (acb1990:Person {born:1949,name:\"Bruno Kirby\"})}, {'p': (b3e29f5:Person {born:1977,name:\"Liv Tyler\"})}, {'p': (e72be8a:Person {born:1970,name:\"Brooke Langton\"})}, {'p': (fea255a:Person {born:1930,name:\"Gene Hackman\"})}, {'p': (e63ca0b:Person {born:1968,name:\"Orlando Jones\"})}, {'p': (b038171:Person {born:1950,name:\"Howard Deutch\"})}, {'p': (c049889:Person {born:1974,name:\"Christian Bale\"})}, {'p': (c9b2912:Person {born:1954,name:\"Zach Grenier\"})}, {'p': (c534ef7:Person {born:1931,name:\"Mike Nichols\"})}, {'p': (b933586:Person {born:1930,name:\"Richard Harris\"})}, {'p': (bf97747:Person {born:1930,name:\"Clint Eastwood\"})}, {'p': (d01df77:Person {born:1947,name:\"Takeshi Kitano\"})}, {'p': (c232207:Person {born:1968,name:\"Dina Meyer\"})}, {'p': (b2404b4:Person {born:1958,name:\"Ice-T\"})}, {'p': (c89d919:Person {born:1953,name:\"Robert Longo\"})}, {'p': (bac346a:Person {born:1966,name:\"Halle Berry\"})}, {'p': (ffa4e3d:Person {born:1949,name:\"Jim Broadbent\"})}, {'p': (f013ed0:Person {born:1965,name:\"Tom Tykwer\"})}, {'p': (d3ae09e:Person {born:1969,name:\"David Mitchell\"})}, {'p': (bc1e203:Person {born:1961,name:\"Stefan Arndt\"})}, {'p': (b8b2756:Person {born:1939,name:\"Ian McKellen\"})}, {'p': (b880076:Person {born:1976,name:\"Audrey Tautou\"})}, {'p': (bf14dfb:Person {born:1971,name:\"Paul Bettany\"})}, {'p': (aa631e9:Person {born:1954,name:\"Ron Howard\"})}, {'p': (f61cf47:Person {born:1981,name:\"Natalie Portman\"})}, {'p': (f90a9f9:Person {born:1946,name:\"Stephen Rea\"})}, {'p': (a1d49d9:Person {born:1940,name:\"John Hurt\"})}, {'p': (b44b8b0:Person {born:1967,name:\"Ben Miles\"})}, {'p': (c57ed71:Person {born:1985,name:\"Emile Hirsch\"})}, {'p': (da70bc4:Person {born:1960,name:\"John Goodman\"})}, {'p': (ddab869:Person {born:1946,name:\"Susan Sarandon\"})}, {'p': (d0c95a2:Person {born:1966,name:\"Matthew Fox\"})}, {'p': (b9eae30:Person {born:1980,name:\"Christina Ricci\"})}, {'p': (e834eae:Person {born:1982,name:\"Rain\"})}, {'p': (bf4fe7e:Person {name:\"Naomie Harris\"})}, {'p': (ccbae51:Person {born:1957,name:\"Michael Clarke Duncan\"})}, {'p': (f48c19e:Person {born:1953,name:\"David Morse\"})}, {'p': (a7170bb:Person {born:1968,name:\"Sam Rockwell\"})}, {'p': (d646a38:Person {born:1955,name:\"Gary Sinise\"})}, {'p': (eb38de8:Person {born:1959,name:\"Patricia Clarkson\"})}, {'p': (ab1d198:Person {born:1959,name:\"Frank Darabont\"})}, {'p': (e430216:Person {born:1938,name:\"Frank Langella\"})}, {'p': (fbe7236:Person {born:1969,name:\"Michael Sheen\"})}, {'p': (cd20bc0:Person {born:1960,name:\"Oliver Platt\"})}, {'p': (b0e1e9f:Person {born:1944,name:\"Danny DeVito\"})}, {'p': (b25d1f3:Person {born:1965,name:\"John C. Reilly\"})}, {'p': (a6692d8:Person {born:1950,name:\"Ed Harris\"})}, {'p': (a5e4851:Person {born:1955,name:\"Bill Paxton\"})}, {'p': (df78d3e:Person {born:1967,name:\"Philip Seymour Hoffman\"})}, {'p': (ccaf55a:Person {born:1943,name:\"Jan de Bont\"})}, {'p': (de0d7fd:Person {born:1951,name:\"Robert Zemeckis\"})}, {'p': (a184035:Person {born:1932,name:\"Milos Forman\"})}, {'p': (a57c7f5:Person {born:1946,name:\"Diane Keaton\"})}, {'p': (d1229e6:Person {born:1949,name:\"Nancy Meyers\"})}, {'p': (cf3c15a:Person {born:1958,name:\"Chris Columbus\"})}, {'p': (e529783:Person {born:1967,name:\"Julia Roberts\"})}, {'p': (ce36fc2:Person {born:1954,name:\"Madonna\"})}, {'p': (f9106e6:Person {born:1956,name:\"Geena Davis\"})}, {'p': (d819e87:Person {born:1963,name:\"Lori Petty\"})}, {'p': (b636c73:Person {born:1943,name:\"Penny Marshall\"})}, {'p': (a3343ae:Person {name:\"Paul Blythe\"})}, {'p': (f911680:Person {name:\"Angela Scope\"})}, {'p': (b2029ef:Person {name:\"Jessica Thompson\"})}, {'p': (e0c4fde:Person {name:\"James Thompson\"})}, {'p': (a5e2246:Person {name:\"My Name\"})}, {'p': (ad0ba45:Person {name:\"Alice\"})}, {'p': (e821801:Person {name:\"Bob\"})}, {'p': (alice:Person {name:\"Alice\"})}, {'p': (bob:Person {name:\"Bob\"})}]\n"
     ]
    }
   ],
   "source": [
    "#有问题利用 data() 方法来获取查询结果：\n",
    "data = graph.data('MATCH (p:Person) return p')\n",
    "print(data)"
   ]
  },
  {
   "cell_type": "code",
   "execution_count": 27,
   "metadata": {},
   "outputs": [
    {
     "name": "stdout",
     "output_type": "stream",
     "text": [
      "                                              p\n0        {'name': 'Keanu Reeves', 'born': 1964}\n1    {'name': 'Carrie-Anne Moss', 'born': 1967}\n2  {'name': 'Laurence Fishburne', 'born': 1961}\n3        {'name': 'Hugo Weaving', 'born': 1960}\n4     {'name': 'Lilly Wachowski', 'born': 1967}\n"
     ]
    }
   ],
   "source": [
    "#输出结果还可以直接转化为 DataFrame 对象\n",
    "from pandas import DataFrame\n",
    "df = DataFrame(data)\n",
    "print(df.head())"
   ]
  },
  {
   "cell_type": "code",
   "execution_count": 28,
   "metadata": {},
   "outputs": [
    {
     "name": "stderr",
     "output_type": "stream",
     "text": [
      "F:\\陶士来文件\\software\\python3_6_5\\lib\\site-packages\\ipykernel_launcher.py:5: DeprecationWarning: Graph.find_one is deprecated, use NodeSelector instead\n  \"\"\"\n"
     ]
    },
    {
     "name": "stdout",
     "output_type": "stream",
     "text": [
      "(ed2e008:Person {born:1964,name:\"Keanu Reeves\"})\n"
     ]
    },
    {
     "name": "stdout",
     "output_type": "stream",
     "text": [
      "(ad0ba45)-[:KNOWS]->(e821801)\n"
     ]
    }
   ],
   "source": [
    "#使用 find_one() 或 find() 方法进行 Node 的查找，\n",
    "# 可以利用 match() 或 match_one() 方法对 Relationship 进行查找\n",
    "\n",
    "#Graph.find_one is deprecated, use NodeSelector instead\n",
    "node = graph.find_one(label='Person')\n",
    "print(node)\n",
    "\n",
    "relationship = graph.match_one(rel_type='KNOWS')\n",
    "print(relationship)"
   ]
  },
  {
   "cell_type": "code",
   "execution_count": 29,
   "metadata": {},
   "outputs": [
    {
     "name": "stderr",
     "output_type": "stream",
     "text": [
      "F:\\陶士来文件\\software\\python3_6_5\\lib\\site-packages\\ipykernel_launcher.py:2: DeprecationWarning: Graph.find_one is deprecated, use NodeSelector instead\n  \n"
     ]
    },
    {
     "name": "stdout",
     "output_type": "stream",
     "text": [
      "(ed2e008:Person {age:21,born:1964,name:\"Keanu Reeves\"})\n"
     ]
    },
    {
     "name": "stderr",
     "output_type": "stream",
     "text": [
      "F:\\陶士来文件\\software\\python3_6_5\\lib\\site-packages\\ipykernel_launcher.py:5: DeprecationWarning: Graph.find_one is deprecated, use NodeSelector instead\n  \"\"\"\n"
     ]
    }
   ],
   "source": [
    "# 如果想要更新 Node 的某个属性可以使用 push() 方法，例如：\n",
    "node = graph.find_one(label='Person')\n",
    "node['age'] = 21\n",
    "graph.push(node)\n",
    "print(graph.find_one(label='Person'))\n",
    "\n"
   ]
  },
  {
   "cell_type": "code",
   "execution_count": 35,
   "metadata": {
    "collapsed": true
   },
   "outputs": [
    {
     "name": "stdout",
     "output_type": "stream",
     "text": [
      "(ed2e008:Person {age:21,born:1964,name:\"Keanu Reeves\"})\n(alice)-[:KNOWS]->(bob)\n"
     ]
    },
    {
     "name": "stderr",
     "output_type": "stream",
     "text": [
      "F:\\陶士来文件\\software\\python3_6_5\\lib\\site-packages\\ipykernel_launcher.py:1: DeprecationWarning: Graph.find_one is deprecated, use NodeSelector instead\n  \"\"\"Entry point for launching an IPython kernel.\n"
     ]
    }
   ],
   "source": [
    "node = graph.find_one(label='Person')\n",
    "relationship = graph.match_one(rel_type='KNOWS')\n",
    "\n",
    "print(node)\n",
    "print(relationship)\n",
    "\n",
    "\n",
    "#在删除 Node 时必须先删除其对应的 Relationship，否则无法删除 Node。\n",
    "graph.delete(relationship)\n",
    "graph.delete(node)"
   ]
  },
  {
   "cell_type": "code",
   "execution_count": 8,
   "metadata": {},
   "outputs": [
    {
     "name": "stdout",
     "output_type": "stream",
     "text": [
      "[]\n"
     ]
    }
   ],
   "source": [
    "data2=graph.data('MATCH (p:Person {age:22}) RETURN p LIMIT 5')\n",
    "print(list(data2))"
   ]
  },
  {
   "cell_type": "code",
   "execution_count": 4,
   "metadata": {},
   "outputs": [
    {
     "name": "stdout",
     "output_type": "stream",
     "text": [
      "[('p': (e0dc9ba:Person {born:1964,name:\"Keanu Reeves\"})), ('p': (b088b01:Person {born:1967,name:\"Carrie-Anne Moss\"})), ('p': (d610ea0:Person {born:1961,name:\"Laurence Fishburne\"})), ('p': (c3e0bd8:Person {born:1960,name:\"Hugo Weaving\"})), ('p': (e4a6a08:Person {born:1967,name:\"Lilly Wachowski\"}))]\n"
     ]
    }
   ],
   "source": [
    "#通过 run() 方法直接执行 CQL 语句\n",
    "data = graph.run('MATCH (p:Person) RETURN p LIMIT 5')\n",
    "print(list(data))"
   ]
  },
  {
   "cell_type": "code",
   "execution_count": 9,
   "metadata": {},
   "outputs": [
    {
     "name": "stdout",
     "output_type": "stream",
     "text": [
      "first\n []\n"
     ]
    }
   ],
   "source": [
    "#NodeSelector可多个节点查询，graph不行\n",
    "from py2neo import NodeSelector\n",
    "selector=NodeSelector(graph)\n",
    "persons = selector.select('Person', age=21)\n",
    "print('first\\n',list(persons))\n"
   ]
  },
  {
   "cell_type": "code",
   "execution_count": 47,
   "metadata": {},
   "outputs": [
    {
     "name": "stdout",
     "output_type": "stream",
     "text": [
      "second\n [(ae3f0ca:Person {born:1961,name:\"Aaron Sorkin\"}), (a39c019:Person {born:1940,name:\"Al Pacino\"}), (alice:Person {name:\"Alice\"}), (f911680:Person {name:\"Angela Scope\"}), (a6cbda6:Person {born:1960,name:\"Annabella Sciorra\"}), (dffc1be:Person {born:1962,name:\"Anthony Edwards\"}), (b880076:Person {born:1976,name:\"Audrey Tautou\"})]\n"
     ]
    }
   ],
   "source": [
    "#加上where用复杂查询\n",
    "persons = selector.select('Person').where('_.name =~ \"A.*\"')\n",
    "print('second\\n',list(persons))"
   ]
  },
  {
   "cell_type": "code",
   "execution_count": 48,
   "metadata": {},
   "outputs": [
    {
     "name": "stdout",
     "output_type": "stream",
     "text": [
      "[(ed2e008:Person {age:21,born:1964,name:\"Keanu Reeves\"}), (f0b777a:Person {born:1967,name:\"Carrie-Anne Moss\"}), (a11a43a:Person {born:1961,name:\"Laurence Fishburne\"}), (a654db9:Person {born:1960,name:\"Hugo Weaving\"}), (a1c2554:Person {born:1967,name:\"Lilly Wachowski\"}), (b1d0ba2:Person {born:1965,name:\"Lana Wachowski\"}), (af2d3d9:Person {born:1952,name:\"Joel Silver\"}), (b816746:Person {born:1978,name:\"Emil Eifrem\"}), (eef64c4:Person {born:1975,name:\"Charlize Theron\"}), (a39c019:Person {born:1940,name:\"Al Pacino\"}), (f16df50:Person {born:1944,name:\"Taylor Hackford\"}), (e60929f:Person {born:1962,name:\"Tom Cruise\"}), (c463103:Person {born:1937,name:\"Jack Nicholson\"}), (c2e8800:Person {born:1962,name:\"Demi Moore\"}), (d6e4a7e:Person {born:1958,name:\"Kevin Bacon\"}), (da9453e:Person {born:1966,name:\"Kiefer Sutherland\"}), (c490c4e:Person {born:1971,name:\"Noah Wyle\"}), (a157034:Person {born:1968,name:\"Cuba Gooding Jr.\"}), (ed57aaa:Person {born:1957,name:\"Kevin Pollak\"}), (ecd472b:Person {born:1943,name:\"J.T. Walsh\"}), (eeb69b1:Person {born:1967,name:\"James Marshall\"}), (d35426a:Person {born:1948,name:\"Christopher Guest\"}), (ef41cb1:Person {born:1947,name:\"Rob Reiner\"}), (ae3f0ca:Person {born:1961,name:\"Aaron Sorkin\"}), (c5b19f7:Person {born:1957,name:\"Kelly McGillis\"}), (faf9e89:Person {born:1959,name:\"Val Kilmer\"}), (dffc1be:Person {born:1962,name:\"Anthony Edwards\"}), (e78351a:Person {born:1933,name:\"Tom Skerritt\"}), (ca3e3df:Person {born:1961,name:\"Meg Ryan\"}), (f9ac80d:Person {born:1944,name:\"Tony Scott\"}), (fa4f5b5:Person {born:1941,name:\"Jim Cash\"}), (d975441:Person {born:1969,name:\"Renee Zellweger\"}), (e07c845:Person {born:1962,name:\"Kelly Preston\"}), (efb4a7e:Person {born:1974,name:\"Jerry O'Connell\"}), (eebcaa2:Person {born:1970,name:\"Jay Mohr\"}), (cf5115b:Person {born:1961,name:\"Bonnie Hunt\"}), (d71d15d:Person {born:1971,name:\"Regina King\"}), (b0a6cda:Person {born:1996,name:\"Jonathan Lipnicki\"}), (a7d152f:Person {born:1957,name:\"Cameron Crowe\"}), (f1a72ba:Person {born:1970,name:\"River Phoenix\"}), (e80d6c6:Person {born:1971,name:\"Corey Feldman\"}), (c9d62a1:Person {born:1972,name:\"Wil Wheaton\"}), (a6da6bd:Person {born:1966,name:\"John Cusack\"}), (a34e744:Person {born:1942,name:\"Marshall Bell\"}), (d8aa8c1:Person {born:1963,name:\"Helen Hunt\"}), (cb3652f:Person {born:1963,name:\"Greg Kinnear\"}), (f3e86bf:Person {born:1940,name:\"James L. Brooks\"}), (a6cbda6:Person {born:1960,name:\"Annabella Sciorra\"}), (c19bb5b:Person {born:1929,name:\"Max von Sydow\"}), (ddb62f7:Person {born:1942,name:\"Werner Herzog\"}), (bafeb4e:Person {born:1951,name:\"Robin Williams\"}), (c153163:Person {born:1956,name:\"Vincent Ward\"}), (a7b920e:Person {born:1970,name:\"Ethan Hawke\"}), (f197fd8:Person {born:1971,name:\"Rick Yune\"}), (b5373d4:Person {born:1940,name:\"James Cromwell\"}), (d5c9e75:Person {born:1953,name:\"Scott Hicks\"}), (fbb354f:Person {born:1968,name:\"Parker Posey\"}), (dd426c2:Person {born:1973,name:\"Dave Chappelle\"}), (ffc0ff0:Person {born:1967,name:\"Steve Zahn\"}), (c982d5e:Person {born:1956,name:\"Tom Hanks\"}), (c652189:Person {born:1941,name:\"Nora Ephron\"}), (d58b71f:Person {born:1956,name:\"Rita Wilson\"}), (aa80e57:Person {born:1953,name:\"Bill Pullman\"}), (f113b7c:Person {born:1949,name:\"Victor Garber\"}), (a921e86:Person {born:1962,name:\"Rosie O'Donnell\"}), (bf9141b:Person {born:1950,name:\"John Patrick Stanley\"}), (d22a8d6:Person {born:1956,name:\"Nathan Lane\"}), (d3aa4e7:Person {born:1948,name:\"Billy Crystal\"}), (a88fb4d:Person {born:1956,name:\"Carrie Fisher\"}), (acb1990:Person {born:1949,name:\"Bruno Kirby\"}), (b3e29f5:Person {born:1977,name:\"Liv Tyler\"}), (e72be8a:Person {born:1970,name:\"Brooke Langton\"}), (fea255a:Person {born:1930,name:\"Gene Hackman\"}), (e63ca0b:Person {born:1968,name:\"Orlando Jones\"}), (b038171:Person {born:1950,name:\"Howard Deutch\"}), (c049889:Person {born:1974,name:\"Christian Bale\"}), (c9b2912:Person {born:1954,name:\"Zach Grenier\"}), (c534ef7:Person {born:1931,name:\"Mike Nichols\"}), (b933586:Person {born:1930,name:\"Richard Harris\"}), (bf97747:Person {born:1930,name:\"Clint Eastwood\"}), (d01df77:Person {born:1947,name:\"Takeshi Kitano\"}), (c232207:Person {born:1968,name:\"Dina Meyer\"}), (b2404b4:Person {born:1958,name:\"Ice-T\"}), (c89d919:Person {born:1953,name:\"Robert Longo\"}), (bac346a:Person {born:1966,name:\"Halle Berry\"}), (ffa4e3d:Person {born:1949,name:\"Jim Broadbent\"}), (f013ed0:Person {born:1965,name:\"Tom Tykwer\"}), (d3ae09e:Person {born:1969,name:\"David Mitchell\"}), (bc1e203:Person {born:1961,name:\"Stefan Arndt\"}), (b8b2756:Person {born:1939,name:\"Ian McKellen\"}), (b880076:Person {born:1976,name:\"Audrey Tautou\"}), (bf14dfb:Person {born:1971,name:\"Paul Bettany\"}), (aa631e9:Person {born:1954,name:\"Ron Howard\"}), (f61cf47:Person {born:1981,name:\"Natalie Portman\"}), (f90a9f9:Person {born:1946,name:\"Stephen Rea\"}), (a1d49d9:Person {born:1940,name:\"John Hurt\"}), (b44b8b0:Person {born:1967,name:\"Ben Miles\"}), (c57ed71:Person {born:1985,name:\"Emile Hirsch\"}), (da70bc4:Person {born:1960,name:\"John Goodman\"}), (ddab869:Person {born:1946,name:\"Susan Sarandon\"}), (d0c95a2:Person {born:1966,name:\"Matthew Fox\"}), (b9eae30:Person {born:1980,name:\"Christina Ricci\"}), (e834eae:Person {born:1982,name:\"Rain\"}), (bf4fe7e:Person {name:\"Naomie Harris\"}), (ccbae51:Person {born:1957,name:\"Michael Clarke Duncan\"}), (f48c19e:Person {born:1953,name:\"David Morse\"}), (a7170bb:Person {born:1968,name:\"Sam Rockwell\"}), (d646a38:Person {born:1955,name:\"Gary Sinise\"}), (eb38de8:Person {born:1959,name:\"Patricia Clarkson\"}), (ab1d198:Person {born:1959,name:\"Frank Darabont\"}), (e430216:Person {born:1938,name:\"Frank Langella\"}), (fbe7236:Person {born:1969,name:\"Michael Sheen\"}), (cd20bc0:Person {born:1960,name:\"Oliver Platt\"}), (b0e1e9f:Person {born:1944,name:\"Danny DeVito\"}), (b25d1f3:Person {born:1965,name:\"John C. Reilly\"}), (a6692d8:Person {born:1950,name:\"Ed Harris\"}), (a5e4851:Person {born:1955,name:\"Bill Paxton\"}), (df78d3e:Person {born:1967,name:\"Philip Seymour Hoffman\"}), (ccaf55a:Person {born:1943,name:\"Jan de Bont\"}), (de0d7fd:Person {born:1951,name:\"Robert Zemeckis\"}), (a184035:Person {born:1932,name:\"Milos Forman\"}), (a57c7f5:Person {born:1946,name:\"Diane Keaton\"}), (d1229e6:Person {born:1949,name:\"Nancy Meyers\"}), (cf3c15a:Person {born:1958,name:\"Chris Columbus\"}), (e529783:Person {born:1967,name:\"Julia Roberts\"}), (ce36fc2:Person {born:1954,name:\"Madonna\"}), (f9106e6:Person {born:1956,name:\"Geena Davis\"}), (d819e87:Person {born:1963,name:\"Lori Petty\"}), (b636c73:Person {born:1943,name:\"Penny Marshall\"}), (a3343ae:Person {name:\"Paul Blythe\"}), (f911680:Person {name:\"Angela Scope\"}), (b2029ef:Person {name:\"Jessica Thompson\"}), (e0c4fde:Person {name:\"James Thompson\"}), (a5e2246:Person {name:\"My Name\"}), (alice:Person {name:\"Alice\"}), (bob:Person {name:\"Bob\"})]\n"
     ]
    }
   ],
   "source": [
    "# 也可以使用 order_by() 进行排序：\n",
    "persons = selector.select('Person').order_by('_.age')\n",
    "print(list(persons))"
   ]
  },
  {
   "cell_type": "code",
   "execution_count": 49,
   "metadata": {},
   "outputs": [
    {
     "name": "stdout",
     "output_type": "stream",
     "text": [
      "(ae3f0ca:Person {born:1961,name:\"Aaron Sorkin\"})\n"
     ]
    }
   ],
   "source": [
    "person = selector.select('Person').where('_.name =~ \"A.*\"').first()\n",
    "print(person)"
   ]
  },
  {
   "cell_type": "code",
   "execution_count": 51,
   "metadata": {},
   "outputs": [],
   "source": [
    "#OGM 类似于 ORM，意为 Object Graph Mapping，这样可以实现一个对象和 Node 的关联\n",
    "from py2neo.ogm import GraphObject, Property, RelatedTo, RelatedFrom\n",
    "\n",
    "\n",
    "class Movie(GraphObject):\n",
    "    __primarykey__ = 'title'\n",
    "    \n",
    "    title = Property()\n",
    "    released = Property()\n",
    "    actors = RelatedFrom('Person', 'ACTED_IN')\n",
    "    directors = RelatedFrom('Person', 'DIRECTED')\n",
    "    producers = RelatedFrom('Person', 'PRODUCED')\n",
    "\n",
    "class Person(GraphObject):\n",
    "    __primarykey__ = 'name'\n",
    "    \n",
    "    name = Property()\n",
    "    born = Property()\n",
    "    acted_in = RelatedTo('Movie')\n",
    "    directed = RelatedTo('Movie')\n",
    "    produced = RelatedTo('Movie')"
   ]
  },
  {
   "cell_type": "code",
   "execution_count": 52,
   "metadata": {},
   "outputs": [
    {
     "name": "stdout",
     "output_type": "stream",
     "text": [
      "<Person name='Keanu Reeves'>\nKeanu Reeves\n21\n"
     ]
    }
   ],
   "source": [
    "#以用它来结合 Graph 查询\n",
    "from py2neo.ogm import GraphObject, Property\n",
    "class Person(GraphObject):\n",
    "    __primarykey__ = 'name'\n",
    "\n",
    "    name = Property()\n",
    "    age = Property()\n",
    "    location = Property()\n",
    "\n",
    "person = Person.select(graph).where(age=21).first()\n",
    "print(person)\n",
    "print(person.name)\n",
    "print(person.age)\n"
   ]
  },
  {
   "cell_type": "code",
   "execution_count": 53,
   "metadata": {},
   "outputs": [
    {
     "name": "stdout",
     "output_type": "stream",
     "text": [
      "(ed2e008:Person {age:21,born:1964,name:\"Keanu Reeves\"})\n(ed2e008:Person {age:22,born:1964,name:\"Keanu Reeves\"})\n"
     ]
    }
   ],
   "source": [
    "#成功实现了对象和 Node 的映射。\n",
    "# 我们可以用它动态改变 Node 的属性，例如修改某个 Node 的 age 属性\n",
    "person = Person.select(graph).where(age=21).first()\n",
    "print(person.__ogm__.node)\n",
    "person.age = 22\n",
    "print(person.__ogm__.node)\n",
    "graph.push(person)"
   ]
  },
  {
   "cell_type": "code",
   "execution_count": 57,
   "metadata": {},
   "outputs": [
    {
     "name": "stdout",
     "output_type": "stream",
     "text": [
      "[]\n[<Person name='Durant'>]\n"
     ]
    }
   ],
   "source": [
    "from py2neo.ogm import GraphObject, Property, RelatedTo\n",
    "\n",
    "\n",
    "\n",
    "class Person(GraphObject):\n",
    "    __primarykey__ = 'name'\n",
    "\n",
    "    name = Property()\n",
    "    age = Property()\n",
    "    location = Property()\n",
    "    knows = RelatedTo('Person', 'KNOWS')\n",
    "\n",
    "person = Person.select(graph).where(age=22).first()\n",
    "print(list(person.knows))\n",
    "new_person = Person()\n",
    "new_person.name = 'Durant'\n",
    "new_person.age = 28\n",
    "person.knows.add(new_person)\n",
    "print(list(person.knows))\n",
    "\n",
    "#这样我们就完成了 Node 和 Relationship 的添加，同时由于设置了 primarykey 为 name，\n",
    "# 所以不会重复添加\n"
   ]
  },
  {
   "cell_type": "code",
   "execution_count": 59,
   "metadata": {},
   "outputs": [
    {
     "ename": "TypeError",
     "evalue": "No method defined to delete object None",
     "traceback": [
      "\u001b[1;31m---------------------------------------------------------------------------\u001b[0m",
      "\u001b[1;31mAttributeError\u001b[0m                            Traceback (most recent call last)",
      "\u001b[1;32mF:\\陶士来文件\\software\\python3_6_5\\lib\\site-packages\\py2neo\\database\\__init__.py\u001b[0m in \u001b[0;36mdelete\u001b[1;34m(self, subgraph)\u001b[0m\n\u001b[0;32m   1124\u001b[0m         \u001b[1;32mtry\u001b[0m\u001b[1;33m:\u001b[0m\u001b[1;33m\u001b[0m\u001b[0m\n\u001b[1;32m-> 1125\u001b[1;33m             \u001b[0msubgraph\u001b[0m\u001b[1;33m.\u001b[0m\u001b[0m__db_delete__\u001b[0m\u001b[1;33m(\u001b[0m\u001b[0mself\u001b[0m\u001b[1;33m)\u001b[0m\u001b[1;33m\u001b[0m\u001b[0m\n\u001b[0m\u001b[0;32m   1126\u001b[0m         \u001b[1;32mexcept\u001b[0m \u001b[0mAttributeError\u001b[0m\u001b[1;33m:\u001b[0m\u001b[1;33m\u001b[0m\u001b[0m\n",
      "\u001b[1;31mAttributeError\u001b[0m: 'NoneType' object has no attribute '__db_delete__'",
      "\nDuring handling of the above exception, another exception occurred:\n",
      "\u001b[1;31mTypeError\u001b[0m                                 Traceback (most recent call last)",
      "\u001b[1;32m<ipython-input-59-b37de31d494e>\u001b[0m in \u001b[0;36m<module>\u001b[1;34m\u001b[0m\n\u001b[0;32m      4\u001b[0m \u001b[0mperson\u001b[0m\u001b[1;33m.\u001b[0m\u001b[0mknows\u001b[0m\u001b[1;33m.\u001b[0m\u001b[0mremove\u001b[0m\u001b[1;33m(\u001b[0m\u001b[0mtarget\u001b[0m\u001b[1;33m)\u001b[0m\u001b[1;33m\u001b[0m\u001b[0m\n\u001b[0;32m      5\u001b[0m \u001b[0mgraph\u001b[0m\u001b[1;33m.\u001b[0m\u001b[0mpush\u001b[0m\u001b[1;33m(\u001b[0m\u001b[0mperson\u001b[0m\u001b[1;33m)\u001b[0m\u001b[1;33m\u001b[0m\u001b[0m\n\u001b[1;32m----> 6\u001b[1;33m \u001b[0mgraph\u001b[0m\u001b[1;33m.\u001b[0m\u001b[0mdelete\u001b[0m\u001b[1;33m(\u001b[0m\u001b[0mtarget\u001b[0m\u001b[1;33m)\u001b[0m\u001b[1;33m\u001b[0m\u001b[0m\n\u001b[0m",
      "\u001b[1;32mF:\\陶士来文件\\software\\python3_6_5\\lib\\site-packages\\py2neo\\database\\__init__.py\u001b[0m in \u001b[0;36mdelete\u001b[1;34m(self, subgraph)\u001b[0m\n\u001b[0;32m    441\u001b[0m                        \u001b[1;33m:\u001b[0m\u001b[1;32mclass\u001b[0m\u001b[1;33m:\u001b[0m\u001b[0;31m`\u001b[0m\u001b[1;33m.\u001b[0m\u001b[0mSubgraph\u001b[0m\u001b[0;31m`\u001b[0m \u001b[0mobject\u001b[0m\u001b[1;33m\u001b[0m\u001b[0m\n\u001b[0;32m    442\u001b[0m         \"\"\"\n\u001b[1;32m--> 443\u001b[1;33m         \u001b[0mself\u001b[0m\u001b[1;33m.\u001b[0m\u001b[0mbegin\u001b[0m\u001b[1;33m(\u001b[0m\u001b[0mautocommit\u001b[0m\u001b[1;33m=\u001b[0m\u001b[1;32mTrue\u001b[0m\u001b[1;33m)\u001b[0m\u001b[1;33m.\u001b[0m\u001b[0mdelete\u001b[0m\u001b[1;33m(\u001b[0m\u001b[0msubgraph\u001b[0m\u001b[1;33m)\u001b[0m\u001b[1;33m\u001b[0m\u001b[0m\n\u001b[0m\u001b[0;32m    444\u001b[0m \u001b[1;33m\u001b[0m\u001b[0m\n\u001b[0;32m    445\u001b[0m     \u001b[1;32mdef\u001b[0m \u001b[0mdelete_all\u001b[0m\u001b[1;33m(\u001b[0m\u001b[0mself\u001b[0m\u001b[1;33m)\u001b[0m\u001b[1;33m:\u001b[0m\u001b[1;33m\u001b[0m\u001b[0m\n",
      "\u001b[1;32mF:\\陶士来文件\\software\\python3_6_5\\lib\\site-packages\\py2neo\\database\\__init__.py\u001b[0m in \u001b[0;36mdelete\u001b[1;34m(self, subgraph)\u001b[0m\n\u001b[0;32m   1125\u001b[0m             \u001b[0msubgraph\u001b[0m\u001b[1;33m.\u001b[0m\u001b[0m__db_delete__\u001b[0m\u001b[1;33m(\u001b[0m\u001b[0mself\u001b[0m\u001b[1;33m)\u001b[0m\u001b[1;33m\u001b[0m\u001b[0m\n\u001b[0;32m   1126\u001b[0m         \u001b[1;32mexcept\u001b[0m \u001b[0mAttributeError\u001b[0m\u001b[1;33m:\u001b[0m\u001b[1;33m\u001b[0m\u001b[0m\n\u001b[1;32m-> 1127\u001b[1;33m             \u001b[1;32mraise\u001b[0m \u001b[0mTypeError\u001b[0m\u001b[1;33m(\u001b[0m\u001b[1;34m\"No method defined to delete object %r\"\u001b[0m \u001b[1;33m%\u001b[0m \u001b[0msubgraph\u001b[0m\u001b[1;33m)\u001b[0m\u001b[1;33m\u001b[0m\u001b[0m\n\u001b[0m\u001b[0;32m   1128\u001b[0m \u001b[1;33m\u001b[0m\u001b[0m\n\u001b[0;32m   1129\u001b[0m     \u001b[1;32mdef\u001b[0m \u001b[0mexists\u001b[0m\u001b[1;33m(\u001b[0m\u001b[0mself\u001b[0m\u001b[1;33m,\u001b[0m \u001b[0msubgraph\u001b[0m\u001b[1;33m)\u001b[0m\u001b[1;33m:\u001b[0m\u001b[1;33m\u001b[0m\u001b[0m\n",
      "\u001b[1;31mTypeError\u001b[0m: No method defined to delete object None"
     ],
     "output_type": "error"
    }
   ],
   "source": [
    "# 也可以通过 remove() 方法移除某个关联 Node\n",
    "person = Person.select(graph).where(name='Bob').first()\n",
    "target = Person.select(graph).where(name='Durant').first()\n",
    "person.knows.remove(target)\n",
    "graph.push(person)\n",
    "graph.delete(target)\n",
    "\n",
    "#这里 target 是 name 为 Durant 的 Node，代码运行完毕后即可删除关联 Relationship 和删除 Node。\n",
    "# 以上便是 OGM 的用法，查询修改非常方便，推荐使用此方法进行 Node 和 Relationship 的修改\n",
    "\n"
   ]
  },
  {
   "cell_type": "code",
   "execution_count": 72,
   "metadata": {},
   "outputs": [],
   "source": [
    "#案例\n",
    "\n",
    "from py2neo import Graph, Node, Relationship\n",
    "\n",
    "# 连接neo4j数据库\n",
    "\n",
    "# 创建结点：label结点，方便以后的结点查找操作\n",
    "temp_node1 = Node(lable=\"Person\",name=\"node1\")\n",
    "temp_node2 = Node(lable=\"Person\",name=\"node2\")\n",
    "graph.create(temp_node1)\n",
    "graph.create(temp_node2)\n",
    "# 建立关系\n",
    "node_1_call_node_2 = Relationship(temp_node1,'CALL',temp_node2)\n",
    "node_1_call_node_2['count'] = 1\n",
    "node_2_call_node_1 = Relationship(temp_node2,'CALL',temp_node1)\n",
    "graph.create(node_2_call_node_1)\n",
    "graph.create(node_1_call_node_2)\n",
    "# 更新关系或节点的属性 push提交\n",
    "node_1_call_node_2['count']+=1\n",
    "graph.push(node_1_call_node_2)\n",
    "\n",
    "\n"
   ]
  },
  {
   "cell_type": "code",
   "execution_count": 76,
   "metadata": {},
   "outputs": [
    {
     "name": "stdout",
     "output_type": "stream",
     "text": [
      "[]\n"
     ]
    },
    {
     "name": "stderr",
     "output_type": "stream",
     "text": [
      "F:\\陶士来文件\\software\\python3_6_5\\lib\\site-packages\\ipykernel_launcher.py:2: DeprecationWarning: Graph.find is deprecated, use NodeSelector instead\n  \n"
     ]
    }
   ],
   "source": [
    "# \n",
    "find_code = graph.find_one(\n",
    "label=\"明教\",\n",
    "property_key=\"name\",\n",
    "property_value=\"张无忌\"\n",
    ")\n",
    "print(find_code['name'])\n",
    "\n",
    "# find方法已被弃用：通过属性值来查找所有节点和关系find替换为：NodeSelector\n",
    "find = NodeSelector(graph).select('明教')\n",
    "for f in find:\n",
    "    print(f['name'])"
   ]
  },
  {
   "cell_type": "code",
   "execution_count": 85,
   "metadata": {},
   "outputs": [],
   "source": [
    "all_nodes=graph.run('MATCH (n) RETURN n')"
   ]
  },
  {
   "cell_type": "code",
   "execution_count": 87,
   "metadata": {},
   "outputs": [
    {
     "name": "stdout",
     "output_type": "stream",
     "text": [
      "all_nodes <py2neo.database.Cursor object at 0x0000022D1E0D6F98>\n"
     ]
    }
   ],
   "source": [
    "print('all_nodes',all_nodes)"
   ]
  },
  {
   "cell_type": "code",
   "execution_count": 90,
   "metadata": {},
   "outputs": [],
   "source": [
    "cursor_graph=graph.run('''MATCH (n)-->(m)\n",
    "RETURN n, m;''')"
   ]
  },
  {
   "cell_type": "code",
   "execution_count": 94,
   "metadata": {},
   "outputs": [
    {
     "name": "stdout",
     "output_type": "stream",
     "text": [
      "['__class__', '__delattr__', '__dict__', '__dir__', '__doc__', '__eq__', '__format__', '__ge__', '__getattribute__', '__gt__', '__hash__', '__init__', '__init_subclass__', '__iter__', '__le__', '__lt__', '__module__', '__ne__', '__new__', '__next__', '__reduce__', '__reduce_ex__', '__repr__', '__setattr__', '__sizeof__', '__str__', '__subclasshook__', '__weakref__', '_current', '_source', 'close', 'current', 'data', 'dump', 'evaluate', 'forward', 'keys', 'next', 'stats']\n"
     ]
    }
   ],
   "source": [
    "print(dir(cursor_graph))"
   ]
  },
  {
   "cell_type": "code",
   "execution_count": 97,
   "metadata": {},
   "outputs": [
    {
     "name": "stdout",
     "output_type": "stream",
     "text": [
      "['n', 'm']\n"
     ]
    }
   ],
   "source": [
    "print(cursor_graph.keys())"
   ]
  },
  {
   "cell_type": "code",
   "execution_count": 98,
   "metadata": {},
   "outputs": [
    {
     "ename": "AttributeError",
     "evalue": "'Cursor' object has no attribute 'nodes'",
     "traceback": [
      "\u001b[1;31m---------------------------------------------------------------------------\u001b[0m",
      "\u001b[1;31mAttributeError\u001b[0m                            Traceback (most recent call last)",
      "\u001b[1;32m<ipython-input-98-6a3a41e33de7>\u001b[0m in \u001b[0;36m<module>\u001b[1;34m\u001b[0m\n\u001b[1;32m----> 1\u001b[1;33m \u001b[0mprint\u001b[0m\u001b[1;33m(\u001b[0m\u001b[0mcursor_graph\u001b[0m\u001b[1;33m.\u001b[0m\u001b[0mnodes\u001b[0m\u001b[1;33m(\u001b[0m\u001b[1;33m)\u001b[0m\u001b[1;33m)\u001b[0m\u001b[1;33m\u001b[0m\u001b[0m\n\u001b[0m",
      "\u001b[1;31mAttributeError\u001b[0m: 'Cursor' object has no attribute 'nodes'"
     ],
     "output_type": "error"
    }
   ],
   "source": [
    ""
   ]
  },
  {
   "cell_type": "code",
   "execution_count": null,
   "metadata": {},
   "outputs": [],
   "source": []
  }
 ],
 "metadata": {
  "kernelspec": {
   "display_name": "Python 2",
   "language": "python",
   "name": "python2"
  },
  "language_info": {
   "codemirror_mode": {
    "name": "ipython",
    "version": 2
   },
   "file_extension": ".py",
   "mimetype": "text/x-python",
   "name": "python",
   "nbconvert_exporter": "python",
   "pygments_lexer": "ipython2",
   "version": "2.7.6"
  }
 },
 "nbformat": 4,
 "nbformat_minor": 0
}
